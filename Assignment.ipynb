{
 "cells": [
  {
   "cell_type": "code",
   "execution_count": 1,
   "id": "ac7c557f",
   "metadata": {},
   "outputs": [],
   "source": [
    "from sqlalchemy import create_engine\n",
    "from sqlalchemy import inspect\n",
    "import pandas as pd\n",
    "import numpy as np\n",
    "import psycopg2\n",
    "import psycopg2.extras\n",
    "import json\n",
    "import os\n",
    "import pandas as pd\n",
    "\n",
    "credentials = \"Credentials.json\"\n",
    "\n",
    "def pgconnect(credential_filepath, db_schema=\"public\"):\n",
    "    with open(credential_filepath) as f:\n",
    "        db_conn_dict = json.load(f)\n",
    "        host       = db_conn_dict['host']\n",
    "        db_user    = db_conn_dict['user']\n",
    "        db_pw      = db_conn_dict['password']\n",
    "        default_db = db_conn_dict['user']\n",
    "        try:\n",
    "            db = create_engine('postgresql+psycopg2://'+db_user+':'+db_pw+'@'+host+'/'+default_db+'?sslmode=disable', echo=False)\n",
    "            conn = db.connect()\n",
    "            print('Connected successfully.')\n",
    "        except Exception as e:\n",
    "            print(\"Unable to connect to the database.\")\n",
    "            print(e)\n",
    "            db, conn = None, None\n",
    "        return db,conn"
   ]
  },
  {
   "cell_type": "code",
   "execution_count": 2,
   "id": "af51c2c7",
   "metadata": {},
   "outputs": [
    {
     "name": "stdout",
     "output_type": "stream",
     "text": [
      "Connected successfully.\n"
     ]
    }
   ],
   "source": [
    "db, conn = pgconnect(credentials)"
   ]
  },
  {
   "cell_type": "code",
   "execution_count": 3,
   "id": "6538f5fb",
   "metadata": {},
   "outputs": [],
   "source": [
    "def query(conn, sqlcmd, args=None, df=True):\n",
    "    result = pd.DataFrame() if df else None\n",
    "    try:\n",
    "        if df:\n",
    "            result = pd.read_sql_query(sqlcmd, conn, params=args)\n",
    "        else:\n",
    "            result = conn.execute(sqlcmd, args).fetchall()\n",
    "            result = result[0] if len(result) == 1 else result\n",
    "    except Exception as e:\n",
    "        print(\"Error encountered: \", e, sep='\\n')\n",
    "    return result"
   ]
  },
  {
   "cell_type": "code",
   "execution_count": 21,
   "id": "d7a15670",
   "metadata": {},
   "outputs": [],
   "source": [
    "def split(word):\n",
    "    return [char for char in word]\n",
    "def toInt(st):\n",
    "    parts=split(st)\n",
    "    if parts.count(\",\")>0:\n",
    "        parts.remove(\",\")\n",
    "    i=0\n",
    "    num=0\n",
    "    while i<len(parts):\n",
    "        num+=10**(len(parts)-i-1)* int(parts[i])\n",
    "        i+=1\n",
    "    return str(num)"
   ]
  },
  {
   "cell_type": "code",
   "execution_count": 7,
   "id": "698b61dc",
   "metadata": {},
   "outputs": [
    {
     "data": {
      "text/plain": [
       "<sqlalchemy.engine.cursor.LegacyCursorResult at 0x25edc883bb0>"
      ]
     },
     "execution_count": 7,
     "metadata": {},
     "output_type": "execute_result"
    }
   ],
   "source": [
    "conn.execute(\"\"\"\n",
    "DROP TABLE IF EXISTS BusinessStats;\n",
    "CREATE TABLE BusinessStats(\n",
    "   area_id INTEGER,\n",
    "   area_name VARCHAR(50),\n",
    "   number_of_businesses INTEGER,\n",
    "   accommodation_and_food_services INTEGER,\n",
    "   retail_trade INTEGER,\n",
    "   agriculture_forestry_and_fishing INTEGER,\n",
    "   health_care_and_social_assistance INTEGER,\n",
    "   public_administration_and_safety INTEGER,\n",
    "   transport_postal_and_warehousing INTEGER\n",
    ");\"\"\")\n"
   ]
  },
  {
   "cell_type": "code",
   "execution_count": 8,
   "id": "01c8d9bd",
   "metadata": {},
   "outputs": [],
   "source": [
    "Businessdata = pd.read_csv('BusinessStats.csv')\n",
    "Businessdata.to_sql(\"businessstats\", con=conn, if_exists='append', index=False)"
   ]
  },
  {
   "cell_type": "code",
   "execution_count": 30,
   "id": "d1dca088",
   "metadata": {},
   "outputs": [
    {
     "data": {
      "text/plain": [
       "<sqlalchemy.engine.cursor.LegacyCursorResult at 0x25edcba3070>"
      ]
     },
     "execution_count": 30,
     "metadata": {},
     "output_type": "execute_result"
    }
   ],
   "source": [
    "conn.execute(\"\"\"\n",
    "DROP TABLE IF EXISTS Neighbourhoods;\n",
    "CREATE TABLE Neighbourhoods(\n",
    "   area_id INTEGER,\n",
    "   area_name VARCHAR(50),\n",
    "   land_area FLOAT,\n",
    "   population VARCHAR(50),\n",
    "   number_of_dwellings VARCHAR(50),\n",
    "   number_of_businesses INTEGER,\n",
    "   median_annual_household_income INTEGER,\n",
    "   avg_monthly_rent INTEGER,\n",
    "   \"0_4\" INTEGER,\n",
    "   \"5_9\" INTEGER,\n",
    "   \"10_14\" INTEGER,\n",
    "   \"15_19\" INTEGER\n",
    ");\"\"\")\n"
   ]
  },
  {
   "cell_type": "code",
   "execution_count": 31,
   "id": "ba1f05e4",
   "metadata": {},
   "outputs": [],
   "source": [
    "Neighbourhoodsdata = pd.read_csv('Neighbourhoods.csv')\n",
    "Neighbourhoodsdata.fillna(0, inplace = True)"
   ]
  },
  {
   "cell_type": "code",
   "execution_count": null,
   "id": "2c5a3ccd",
   "metadata": {},
   "outputs": [],
   "source": [
    "Neighbourhoodsdata.to_sql(\"neighbourhoods\", con=conn, if_exists='append', index=False)"
   ]
  },
  {
   "cell_type": "code",
   "execution_count": null,
   "id": "ce1495cc",
   "metadata": {},
   "outputs": [],
   "source": []
  },
  {
   "cell_type": "code",
   "execution_count": null,
   "id": "3946a23a",
   "metadata": {},
   "outputs": [],
   "source": []
  },
  {
   "cell_type": "code",
   "execution_count": null,
   "id": "82bac551",
   "metadata": {},
   "outputs": [],
   "source": []
  }
 ],
 "metadata": {
  "kernelspec": {
   "display_name": "Python 3 (ipykernel)",
   "language": "python",
   "name": "python3"
  },
  "language_info": {
   "codemirror_mode": {
    "name": "ipython",
    "version": 3
   },
   "file_extension": ".py",
   "mimetype": "text/x-python",
   "name": "python",
   "nbconvert_exporter": "python",
   "pygments_lexer": "ipython3",
   "version": "3.9.7"
  }
 },
 "nbformat": 4,
 "nbformat_minor": 5
}
