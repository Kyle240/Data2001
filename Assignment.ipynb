{
 "cells": [
  {
   "cell_type": "code",
   "execution_count": null,
   "id": "ac7c557f",
   "metadata": {},
   "outputs": [],
   "source": [
    "from sqlalchemy import create_engine\n",
    "from sqlalchemy import inspect\n",
    "import pandas as pd\n",
    "import numpy as np\n",
    "import psycopg2\n",
    "import psycopg2.extras\n",
    "import json\n",
    "import os\n",
    "import fiona\n",
    "import geopandas as gpd\n",
    "from shapely.geometry import Point, Polygon, MultiPolygon\n",
    "from geoalchemy2 import Geometry, WKTElement\n",
    "import matplotlib.pyplot as plt\n",
    "\n",
    "credentials = \"Credentials.json\"\n",
    "\n",
    "def pgconnect(credential_filepath, db_schema=\"public\"):\n",
    "    with open(credential_filepath) as f:\n",
    "        db_conn_dict = json.load(f)\n",
    "        host       = db_conn_dict['host']\n",
    "        db_user    = db_conn_dict['user']\n",
    "        db_pw      = db_conn_dict['password']\n",
    "        default_db = db_conn_dict['user']\n",
    "        try:\n",
    "            db = create_engine('postgresql+psycopg2://'+db_user+':'+db_pw+'@'+host+'/'+default_db+'?sslmode=disable', echo=False)\n",
    "            conn = db.connect()\n",
    "            print('Connected successfully.')\n",
    "        except Exception as e:\n",
    "            print(\"Unable to connect to the database.\")\n",
    "            print(e)\n",
    "            db, conn = None, None\n",
    "        return db,conn"
   ]
  },
  {
   "cell_type": "code",
   "execution_count": null,
   "id": "af51c2c7",
   "metadata": {},
   "outputs": [],
   "source": [
    "db, conn = pgconnect(credentials)"
   ]
  },
  {
   "cell_type": "code",
   "execution_count": 5,
   "id": "6538f5fb",
   "metadata": {},
   "outputs": [],
   "source": [
    "def query(conn, sqlcmd, args=None, df=True):\n",
    "    result = pd.DataFrame() if df else None\n",
    "    try:\n",
    "        if df:\n",
    "            result = pd.read_sql_query(sqlcmd, conn, params=args)\n",
    "        else:\n",
    "            result = conn.execute(sqlcmd, args).fetchall()\n",
    "            result = result[0] if len(result) == 1 else result\n",
    "    except Exception as e:\n",
    "        print(\"Error encountered: \", e, sep='\\n')\n",
    "    return result"
   ]
  },
  {
   "cell_type": "code",
   "execution_count": 6,
   "id": "d7a15670",
   "metadata": {},
   "outputs": [],
   "source": [
    "def split(word):\n",
    "    if type(word)==int:\n",
    "        word=str(word)\n",
    "    return [char for char in word]\n",
    "def toInt(st):\n",
    "    parts=split(st)\n",
    "    if parts.count(\",\")>0:\n",
    "        parts.remove(\",\")\n",
    "    i=0\n",
    "    num=0\n",
    "    while i<len(parts):\n",
    "        num+=10**(len(parts)-i-1)* int(parts[i])\n",
    "        i+=1\n",
    "    return num"
   ]
  },
  {
   "cell_type": "code",
   "execution_count": 7,
   "id": "56ccd015",
   "metadata": {},
   "outputs": [],
   "source": [
    "def create_wkt_element(geom, srid):\n",
    "    if geom.geom_type == 'Polygon':\n",
    "        geom = MultiPolygon([geom])\n",
    "    return WKTElement(geom.wkt, srid)"
   ]
  },
  {
   "cell_type": "code",
   "execution_count": 8,
   "id": "698b61dc",
   "metadata": {},
   "outputs": [
    {
     "data": {
      "text/plain": [
       "<sqlalchemy.engine.cursor.LegacyCursorResult at 0x282bd423fd0>"
      ]
     },
     "execution_count": 8,
     "metadata": {},
     "output_type": "execute_result"
    }
   ],
   "source": [
    "conn.execute(\"\"\"\n",
    "DROP TABLE  BusinessStats cascade;\n",
    "CREATE TABLE BusinessStats(\n",
    "   area_id INTEGER,\n",
    "   area_name VARCHAR(50),\n",
    "   number_of_businesses INTEGER,\n",
    "   accommodation_and_food_services INTEGER,\n",
    "   retail_trade INTEGER,\n",
    "   agriculture_forestry_and_fishing INTEGER,\n",
    "   health_care_and_social_assistance INTEGER,\n",
    "   public_administration_and_safety INTEGER,\n",
    "   transport_postal_and_warehousing INTEGER,\n",
    "   primary key(area_id,area_name)\n",
    ");\"\"\")\n"
   ]
  },
  {
   "cell_type": "code",
   "execution_count": 9,
   "id": "01c8d9bd",
   "metadata": {},
   "outputs": [
    {
     "data": {
      "text/html": [
       "<div>\n",
       "<style scoped>\n",
       "    .dataframe tbody tr th:only-of-type {\n",
       "        vertical-align: middle;\n",
       "    }\n",
       "\n",
       "    .dataframe tbody tr th {\n",
       "        vertical-align: top;\n",
       "    }\n",
       "\n",
       "    .dataframe thead th {\n",
       "        text-align: right;\n",
       "    }\n",
       "</style>\n",
       "<table border=\"1\" class=\"dataframe\">\n",
       "  <thead>\n",
       "    <tr style=\"text-align: right;\">\n",
       "      <th></th>\n",
       "      <th>area_id</th>\n",
       "      <th>area_name</th>\n",
       "      <th>number_of_businesses</th>\n",
       "      <th>accommodation_and_food_services</th>\n",
       "      <th>retail_trade</th>\n",
       "      <th>agriculture_forestry_and_fishing</th>\n",
       "      <th>health_care_and_social_assistance</th>\n",
       "      <th>public_administration_and_safety</th>\n",
       "      <th>transport_postal_and_warehousing</th>\n",
       "    </tr>\n",
       "  </thead>\n",
       "  <tbody>\n",
       "    <tr>\n",
       "      <th>0</th>\n",
       "      <td>101021007</td>\n",
       "      <td>Braidwood</td>\n",
       "      <td>629</td>\n",
       "      <td>26</td>\n",
       "      <td>27</td>\n",
       "      <td>280</td>\n",
       "      <td>11</td>\n",
       "      <td>0</td>\n",
       "      <td>35</td>\n",
       "    </tr>\n",
       "    <tr>\n",
       "      <th>1</th>\n",
       "      <td>101021008</td>\n",
       "      <td>Karabar</td>\n",
       "      <td>326</td>\n",
       "      <td>7</td>\n",
       "      <td>10</td>\n",
       "      <td>8</td>\n",
       "      <td>11</td>\n",
       "      <td>0</td>\n",
       "      <td>43</td>\n",
       "    </tr>\n",
       "    <tr>\n",
       "      <th>2</th>\n",
       "      <td>101021009</td>\n",
       "      <td>Queanbeyan</td>\n",
       "      <td>724</td>\n",
       "      <td>52</td>\n",
       "      <td>47</td>\n",
       "      <td>11</td>\n",
       "      <td>56</td>\n",
       "      <td>3</td>\n",
       "      <td>77</td>\n",
       "    </tr>\n",
       "    <tr>\n",
       "      <th>3</th>\n",
       "      <td>101021010</td>\n",
       "      <td>Queanbeyan - East</td>\n",
       "      <td>580</td>\n",
       "      <td>16</td>\n",
       "      <td>23</td>\n",
       "      <td>4</td>\n",
       "      <td>12</td>\n",
       "      <td>0</td>\n",
       "      <td>57</td>\n",
       "    </tr>\n",
       "    <tr>\n",
       "      <th>4</th>\n",
       "      <td>101021011</td>\n",
       "      <td>Queanbeyan Region</td>\n",
       "      <td>1642</td>\n",
       "      <td>39</td>\n",
       "      <td>63</td>\n",
       "      <td>292</td>\n",
       "      <td>34</td>\n",
       "      <td>7</td>\n",
       "      <td>81</td>\n",
       "    </tr>\n",
       "    <tr>\n",
       "      <th>...</th>\n",
       "      <td>...</td>\n",
       "      <td>...</td>\n",
       "      <td>...</td>\n",
       "      <td>...</td>\n",
       "      <td>...</td>\n",
       "      <td>...</td>\n",
       "      <td>...</td>\n",
       "      <td>...</td>\n",
       "      <td>...</td>\n",
       "    </tr>\n",
       "    <tr>\n",
       "      <th>2296</th>\n",
       "      <td>901011001</td>\n",
       "      <td>Christmas Island</td>\n",
       "      <td>0</td>\n",
       "      <td>0</td>\n",
       "      <td>0</td>\n",
       "      <td>0</td>\n",
       "      <td>0</td>\n",
       "      <td>0</td>\n",
       "      <td>0</td>\n",
       "    </tr>\n",
       "    <tr>\n",
       "      <th>2297</th>\n",
       "      <td>901021002</td>\n",
       "      <td>Cocos (Keeling) Islands</td>\n",
       "      <td>7</td>\n",
       "      <td>3</td>\n",
       "      <td>0</td>\n",
       "      <td>0</td>\n",
       "      <td>0</td>\n",
       "      <td>0</td>\n",
       "      <td>0</td>\n",
       "    </tr>\n",
       "    <tr>\n",
       "      <th>2298</th>\n",
       "      <td>901031003</td>\n",
       "      <td>Jervis Bay</td>\n",
       "      <td>6</td>\n",
       "      <td>0</td>\n",
       "      <td>3</td>\n",
       "      <td>0</td>\n",
       "      <td>0</td>\n",
       "      <td>0</td>\n",
       "      <td>0</td>\n",
       "    </tr>\n",
       "    <tr>\n",
       "      <th>2299</th>\n",
       "      <td>901041004</td>\n",
       "      <td>Norfolk Island</td>\n",
       "      <td>0</td>\n",
       "      <td>0</td>\n",
       "      <td>0</td>\n",
       "      <td>0</td>\n",
       "      <td>0</td>\n",
       "      <td>0</td>\n",
       "      <td>0</td>\n",
       "    </tr>\n",
       "    <tr>\n",
       "      <th>2300</th>\n",
       "      <td>999999499</td>\n",
       "      <td>Currently Unknown (Aus.)</td>\n",
       "      <td>1215</td>\n",
       "      <td>7</td>\n",
       "      <td>80</td>\n",
       "      <td>60</td>\n",
       "      <td>39</td>\n",
       "      <td>5</td>\n",
       "      <td>44</td>\n",
       "    </tr>\n",
       "  </tbody>\n",
       "</table>\n",
       "<p>2301 rows × 9 columns</p>\n",
       "</div>"
      ],
      "text/plain": [
       "        area_id                 area_name  number_of_businesses  \\\n",
       "0     101021007                 Braidwood                   629   \n",
       "1     101021008                   Karabar                   326   \n",
       "2     101021009                Queanbeyan                   724   \n",
       "3     101021010         Queanbeyan - East                   580   \n",
       "4     101021011         Queanbeyan Region                  1642   \n",
       "...         ...                       ...                   ...   \n",
       "2296  901011001          Christmas Island                     0   \n",
       "2297  901021002   Cocos (Keeling) Islands                     7   \n",
       "2298  901031003                Jervis Bay                     6   \n",
       "2299  901041004            Norfolk Island                     0   \n",
       "2300  999999499  Currently Unknown (Aus.)                  1215   \n",
       "\n",
       "      accommodation_and_food_services  retail_trade  \\\n",
       "0                                  26            27   \n",
       "1                                   7            10   \n",
       "2                                  52            47   \n",
       "3                                  16            23   \n",
       "4                                  39            63   \n",
       "...                               ...           ...   \n",
       "2296                                0             0   \n",
       "2297                                3             0   \n",
       "2298                                0             3   \n",
       "2299                                0             0   \n",
       "2300                                7            80   \n",
       "\n",
       "      agriculture_forestry_and_fishing  health_care_and_social_assistance  \\\n",
       "0                                  280                                 11   \n",
       "1                                    8                                 11   \n",
       "2                                   11                                 56   \n",
       "3                                    4                                 12   \n",
       "4                                  292                                 34   \n",
       "...                                ...                                ...   \n",
       "2296                                 0                                  0   \n",
       "2297                                 0                                  0   \n",
       "2298                                 0                                  0   \n",
       "2299                                 0                                  0   \n",
       "2300                                60                                 39   \n",
       "\n",
       "      public_administration_and_safety  transport_postal_and_warehousing  \n",
       "0                                    0                                35  \n",
       "1                                    0                                43  \n",
       "2                                    3                                77  \n",
       "3                                    0                                57  \n",
       "4                                    7                                81  \n",
       "...                                ...                               ...  \n",
       "2296                                 0                                 0  \n",
       "2297                                 0                                 0  \n",
       "2298                                 0                                 0  \n",
       "2299                                 0                                 0  \n",
       "2300                                 5                                44  \n",
       "\n",
       "[2301 rows x 9 columns]"
      ]
     },
     "execution_count": 9,
     "metadata": {},
     "output_type": "execute_result"
    }
   ],
   "source": [
    "businessdata = pd.read_csv('BusinessStats.csv')\n",
    "businessdata.to_sql(\"businessstats\", con=conn, if_exists='append', index=False)\n",
    "businessdata"
   ]
  },
  {
   "cell_type": "code",
   "execution_count": null,
   "id": "d1dca088",
   "metadata": {},
   "outputs": [],
   "source": [
    "conn.execute(\"\"\"\n",
    "DROP TABLE Neighbourhoods cascade;\n",
    "CREATE TABLE Neighbourhoods(\n",
    "    \"Unnamed: 0\" Integer,\n",
    "   area_id INTEGER ,\n",
    "   area_name VARCHAR(50),\n",
    "   land_area FLOAT,\n",
    "   number_of_businesses INTEGER,\n",
    "   median_annual_household_income INTEGER,\n",
    "   avg_monthly_rent INTEGER,\n",
    "   \"0-4\" INTEGER,\n",
    "   \"5-9\" INTEGER,\n",
    "   \"10-14\" INTEGER,\n",
    "   \"15-19\" INTEGER,\n",
    "   primary key(area_id,area_name)\n",
    ");\"\"\")\n",
    "ls=[\"Unnamed: 0\",\"area_id\",\"area_name\",\"land_area\",\"number_of_businesses\",\"median_annual_household_income\",\"avg_monthly_rent\",\"0-4\",\"5-9\",\"10-14\",\"15-19\"]\n",
    "Neighbourhoodsdata = pd.read_csv('Neighbourhoods.csv',usecols=ls)\n",
    "Neighbourhoodsdata.fillna(0, inplace = True)\n",
    "Neighbourhoodsdata.to_sql(\"neighbourhoods\", con=conn, if_exists='append', index=False)\n",
    "population=pd.read_csv('Neighbourhoods.csv',usecols=[\"population\"])\n",
    "dwelling=pd.read_csv('Neighbourhoods.csv',usecols=[\"number_of_dwellings\"])\n",
    "population.fillna(0, inplace = True)\n",
    "dwelling.fillna(0, inplace = True)\n"
   ]
  },
  {
   "cell_type": "code",
   "execution_count": 11,
   "id": "fe133fa2",
   "metadata": {},
   "outputs": [
    {
     "data": {
      "text/plain": [
       "<sqlalchemy.engine.cursor.LegacyCursorResult at 0x2c87f7f7cd0>"
      ]
     },
     "execution_count": 11,
     "metadata": {},
     "output_type": "execute_result"
    }
   ],
   "source": [
    "conn.execute(\"\"\"\n",
    "ALter table neighbourhoods\n",
    "ADD population INTEGER\n",
    "\"\"\")\n",
    "conn.execute(\"\"\"\n",
    "ALter table neighbourhoods\n",
    "ADD number_of_dwellings INTEGER\n",
    "\"\"\")"
   ]
  },
  {
   "cell_type": "code",
   "execution_count": 12,
   "id": "4ee6a2a7",
   "metadata": {},
   "outputs": [
    {
     "ename": "OperationalError",
     "evalue": "(psycopg2.OperationalError) server closed the connection unexpectedly\n\tThis probably means the server terminated abnormally\n\tbefore or while processing the request.\n\n[SQL: \n    Update neighbourhoods\n    set population = 202\n    where \"Unnamed: 0\" =71]\n(Background on this error at: https://sqlalche.me/e/14/e3q8)",
     "output_type": "error",
     "traceback": [
      "\u001b[1;31m---------------------------------------------------------------------------\u001b[0m",
      "\u001b[1;31mOperationalError\u001b[0m                          Traceback (most recent call last)",
      "File \u001b[1;32m~\\anaconda3\\envs\\myenv\\lib\\site-packages\\sqlalchemy\\engine\\base.py:1808\u001b[0m, in \u001b[0;36mConnection._execute_context\u001b[1;34m(self, dialect, constructor, statement, parameters, execution_options, *args, **kw)\u001b[0m\n\u001b[0;32m   1807\u001b[0m     \u001b[38;5;28;01mif\u001b[39;00m \u001b[38;5;129;01mnot\u001b[39;00m evt_handled:\n\u001b[1;32m-> 1808\u001b[0m         \u001b[38;5;28;43mself\u001b[39;49m\u001b[38;5;241;43m.\u001b[39;49m\u001b[43mdialect\u001b[49m\u001b[38;5;241;43m.\u001b[39;49m\u001b[43mdo_execute\u001b[49m\u001b[43m(\u001b[49m\n\u001b[0;32m   1809\u001b[0m \u001b[43m            \u001b[49m\u001b[43mcursor\u001b[49m\u001b[43m,\u001b[49m\u001b[43m \u001b[49m\u001b[43mstatement\u001b[49m\u001b[43m,\u001b[49m\u001b[43m \u001b[49m\u001b[43mparameters\u001b[49m\u001b[43m,\u001b[49m\u001b[43m \u001b[49m\u001b[43mcontext\u001b[49m\n\u001b[0;32m   1810\u001b[0m \u001b[43m        \u001b[49m\u001b[43m)\u001b[49m\n\u001b[0;32m   1812\u001b[0m \u001b[38;5;28;01mif\u001b[39;00m \u001b[38;5;28mself\u001b[39m\u001b[38;5;241m.\u001b[39m_has_events \u001b[38;5;129;01mor\u001b[39;00m \u001b[38;5;28mself\u001b[39m\u001b[38;5;241m.\u001b[39mengine\u001b[38;5;241m.\u001b[39m_has_events:\n",
      "File \u001b[1;32m~\\anaconda3\\envs\\myenv\\lib\\site-packages\\sqlalchemy\\engine\\default.py:732\u001b[0m, in \u001b[0;36mDefaultDialect.do_execute\u001b[1;34m(self, cursor, statement, parameters, context)\u001b[0m\n\u001b[0;32m    731\u001b[0m \u001b[38;5;28;01mdef\u001b[39;00m \u001b[38;5;21mdo_execute\u001b[39m(\u001b[38;5;28mself\u001b[39m, cursor, statement, parameters, context\u001b[38;5;241m=\u001b[39m\u001b[38;5;28;01mNone\u001b[39;00m):\n\u001b[1;32m--> 732\u001b[0m     \u001b[43mcursor\u001b[49m\u001b[38;5;241;43m.\u001b[39;49m\u001b[43mexecute\u001b[49m\u001b[43m(\u001b[49m\u001b[43mstatement\u001b[49m\u001b[43m,\u001b[49m\u001b[43m \u001b[49m\u001b[43mparameters\u001b[49m\u001b[43m)\u001b[49m\n",
      "\u001b[1;31mOperationalError\u001b[0m: server closed the connection unexpectedly\n\tThis probably means the server terminated abnormally\n\tbefore or while processing the request.\n",
      "\nThe above exception was the direct cause of the following exception:\n",
      "\u001b[1;31mOperationalError\u001b[0m                          Traceback (most recent call last)",
      "Input \u001b[1;32mIn [12]\u001b[0m, in \u001b[0;36m<cell line: 2>\u001b[1;34m()\u001b[0m\n\u001b[0;32m      2\u001b[0m \u001b[38;5;28;01mwhile\u001b[39;00m i\u001b[38;5;241m<\u001b[39m\u001b[38;5;241m322\u001b[39m:\n\u001b[0;32m      3\u001b[0m     pop\u001b[38;5;241m=\u001b[39mtoInt(population\u001b[38;5;241m.\u001b[39mloc[i][\u001b[38;5;124m\"\u001b[39m\u001b[38;5;124mpopulation\u001b[39m\u001b[38;5;124m\"\u001b[39m])\n\u001b[1;32m----> 4\u001b[0m     \u001b[43mconn\u001b[49m\u001b[38;5;241;43m.\u001b[39;49m\u001b[43mexecute\u001b[49m\u001b[43m(\u001b[49m\u001b[38;5;124;43m\"\"\"\u001b[39;49m\n\u001b[0;32m      5\u001b[0m \u001b[38;5;124;43m    Update neighbourhoods\u001b[39;49m\n\u001b[0;32m      6\u001b[0m \u001b[38;5;124;43m    set population = \u001b[39;49m\u001b[38;5;132;43;01m{}\u001b[39;49;00m\n\u001b[0;32m      7\u001b[0m \u001b[38;5;124;43m    where \u001b[39;49m\u001b[38;5;124;43m\"\u001b[39;49m\u001b[38;5;124;43mUnnamed: 0\u001b[39;49m\u001b[38;5;124;43m\"\u001b[39;49m\u001b[38;5;124;43m =\u001b[39;49m\u001b[38;5;132;43;01m{}\u001b[39;49;00m\u001b[38;5;124;43m\"\"\"\u001b[39;49m\u001b[38;5;241;43m.\u001b[39;49m\u001b[43mformat\u001b[49m\u001b[43m(\u001b[49m\u001b[43mpop\u001b[49m\u001b[43m,\u001b[49m\u001b[43mi\u001b[49m\u001b[43m)\u001b[49m\u001b[43m)\u001b[49m\n\u001b[0;32m      8\u001b[0m     dwellings\u001b[38;5;241m=\u001b[39mtoInt(dwelling\u001b[38;5;241m.\u001b[39mloc[i][\u001b[38;5;124m\"\u001b[39m\u001b[38;5;124mnumber_of_dwellings\u001b[39m\u001b[38;5;124m\"\u001b[39m])\n\u001b[0;32m      9\u001b[0m     conn\u001b[38;5;241m.\u001b[39mexecute(\u001b[38;5;124m\"\"\"\u001b[39m\n\u001b[0;32m     10\u001b[0m \u001b[38;5;124m    Update neighbourhoods\u001b[39m\n\u001b[0;32m     11\u001b[0m \u001b[38;5;124m    set number_of_dwellings = \u001b[39m\u001b[38;5;132;01m{}\u001b[39;00m\n\u001b[0;32m     12\u001b[0m \u001b[38;5;124m    where \u001b[39m\u001b[38;5;124m\"\u001b[39m\u001b[38;5;124mUnnamed: 0\u001b[39m\u001b[38;5;124m\"\u001b[39m\u001b[38;5;124m =\u001b[39m\u001b[38;5;132;01m{}\u001b[39;00m\u001b[38;5;124m\"\"\"\u001b[39m\u001b[38;5;241m.\u001b[39mformat(dwellings,i))\n",
      "File \u001b[1;32m~\\anaconda3\\envs\\myenv\\lib\\site-packages\\sqlalchemy\\engine\\base.py:1280\u001b[0m, in \u001b[0;36mConnection.execute\u001b[1;34m(self, statement, *multiparams, **params)\u001b[0m\n\u001b[0;32m   1271\u001b[0m \u001b[38;5;28;01mif\u001b[39;00m \u001b[38;5;28misinstance\u001b[39m(statement, util\u001b[38;5;241m.\u001b[39mstring_types):\n\u001b[0;32m   1272\u001b[0m     util\u001b[38;5;241m.\u001b[39mwarn_deprecated_20(\n\u001b[0;32m   1273\u001b[0m         \u001b[38;5;124m\"\u001b[39m\u001b[38;5;124mPassing a string to Connection.execute() is \u001b[39m\u001b[38;5;124m\"\u001b[39m\n\u001b[0;32m   1274\u001b[0m         \u001b[38;5;124m\"\u001b[39m\u001b[38;5;124mdeprecated and will be removed in version 2.0.  Use the \u001b[39m\u001b[38;5;124m\"\u001b[39m\n\u001b[1;32m   (...)\u001b[0m\n\u001b[0;32m   1277\u001b[0m         \u001b[38;5;124m\"\u001b[39m\u001b[38;5;124mdriver-level SQL string.\u001b[39m\u001b[38;5;124m\"\u001b[39m\n\u001b[0;32m   1278\u001b[0m     )\n\u001b[1;32m-> 1280\u001b[0m     \u001b[38;5;28;01mreturn\u001b[39;00m \u001b[38;5;28;43mself\u001b[39;49m\u001b[38;5;241;43m.\u001b[39;49m\u001b[43m_exec_driver_sql\u001b[49m\u001b[43m(\u001b[49m\n\u001b[0;32m   1281\u001b[0m \u001b[43m        \u001b[49m\u001b[43mstatement\u001b[49m\u001b[43m,\u001b[49m\n\u001b[0;32m   1282\u001b[0m \u001b[43m        \u001b[49m\u001b[43mmultiparams\u001b[49m\u001b[43m,\u001b[49m\n\u001b[0;32m   1283\u001b[0m \u001b[43m        \u001b[49m\u001b[43mparams\u001b[49m\u001b[43m,\u001b[49m\n\u001b[0;32m   1284\u001b[0m \u001b[43m        \u001b[49m\u001b[43m_EMPTY_EXECUTION_OPTS\u001b[49m\u001b[43m,\u001b[49m\n\u001b[0;32m   1285\u001b[0m \u001b[43m        \u001b[49m\u001b[43mfuture\u001b[49m\u001b[38;5;241;43m=\u001b[39;49m\u001b[38;5;28;43;01mFalse\u001b[39;49;00m\u001b[43m,\u001b[49m\n\u001b[0;32m   1286\u001b[0m \u001b[43m    \u001b[49m\u001b[43m)\u001b[49m\n\u001b[0;32m   1288\u001b[0m \u001b[38;5;28;01mtry\u001b[39;00m:\n\u001b[0;32m   1289\u001b[0m     meth \u001b[38;5;241m=\u001b[39m statement\u001b[38;5;241m.\u001b[39m_execute_on_connection\n",
      "File \u001b[1;32m~\\anaconda3\\envs\\myenv\\lib\\site-packages\\sqlalchemy\\engine\\base.py:1584\u001b[0m, in \u001b[0;36mConnection._exec_driver_sql\u001b[1;34m(self, statement, multiparams, params, execution_options, future)\u001b[0m\n\u001b[0;32m   1574\u001b[0m         (\n\u001b[0;32m   1575\u001b[0m             statement,\n\u001b[0;32m   1576\u001b[0m             distilled_params,\n\u001b[1;32m   (...)\u001b[0m\n\u001b[0;32m   1580\u001b[0m             statement, distilled_parameters, execution_options\n\u001b[0;32m   1581\u001b[0m         )\n\u001b[0;32m   1583\u001b[0m dialect \u001b[38;5;241m=\u001b[39m \u001b[38;5;28mself\u001b[39m\u001b[38;5;241m.\u001b[39mdialect\n\u001b[1;32m-> 1584\u001b[0m ret \u001b[38;5;241m=\u001b[39m \u001b[38;5;28;43mself\u001b[39;49m\u001b[38;5;241;43m.\u001b[39;49m\u001b[43m_execute_context\u001b[49m\u001b[43m(\u001b[49m\n\u001b[0;32m   1585\u001b[0m \u001b[43m    \u001b[49m\u001b[43mdialect\u001b[49m\u001b[43m,\u001b[49m\n\u001b[0;32m   1586\u001b[0m \u001b[43m    \u001b[49m\u001b[43mdialect\u001b[49m\u001b[38;5;241;43m.\u001b[39;49m\u001b[43mexecution_ctx_cls\u001b[49m\u001b[38;5;241;43m.\u001b[39;49m\u001b[43m_init_statement\u001b[49m\u001b[43m,\u001b[49m\n\u001b[0;32m   1587\u001b[0m \u001b[43m    \u001b[49m\u001b[43mstatement\u001b[49m\u001b[43m,\u001b[49m\n\u001b[0;32m   1588\u001b[0m \u001b[43m    \u001b[49m\u001b[43mdistilled_parameters\u001b[49m\u001b[43m,\u001b[49m\n\u001b[0;32m   1589\u001b[0m \u001b[43m    \u001b[49m\u001b[43mexecution_options\u001b[49m\u001b[43m,\u001b[49m\n\u001b[0;32m   1590\u001b[0m \u001b[43m    \u001b[49m\u001b[43mstatement\u001b[49m\u001b[43m,\u001b[49m\n\u001b[0;32m   1591\u001b[0m \u001b[43m    \u001b[49m\u001b[43mdistilled_parameters\u001b[49m\u001b[43m,\u001b[49m\n\u001b[0;32m   1592\u001b[0m \u001b[43m\u001b[49m\u001b[43m)\u001b[49m\n\u001b[0;32m   1594\u001b[0m \u001b[38;5;28;01mif\u001b[39;00m \u001b[38;5;129;01mnot\u001b[39;00m future:\n\u001b[0;32m   1595\u001b[0m     \u001b[38;5;28;01mif\u001b[39;00m \u001b[38;5;28mself\u001b[39m\u001b[38;5;241m.\u001b[39m_has_events \u001b[38;5;129;01mor\u001b[39;00m \u001b[38;5;28mself\u001b[39m\u001b[38;5;241m.\u001b[39mengine\u001b[38;5;241m.\u001b[39m_has_events:\n",
      "File \u001b[1;32m~\\anaconda3\\envs\\myenv\\lib\\site-packages\\sqlalchemy\\engine\\base.py:1851\u001b[0m, in \u001b[0;36mConnection._execute_context\u001b[1;34m(self, dialect, constructor, statement, parameters, execution_options, *args, **kw)\u001b[0m\n\u001b[0;32m   1848\u001b[0m             branched\u001b[38;5;241m.\u001b[39mclose()\n\u001b[0;32m   1850\u001b[0m \u001b[38;5;28;01mexcept\u001b[39;00m \u001b[38;5;167;01mBaseException\u001b[39;00m \u001b[38;5;28;01mas\u001b[39;00m e:\n\u001b[1;32m-> 1851\u001b[0m     \u001b[38;5;28;43mself\u001b[39;49m\u001b[38;5;241;43m.\u001b[39;49m\u001b[43m_handle_dbapi_exception\u001b[49m\u001b[43m(\u001b[49m\n\u001b[0;32m   1852\u001b[0m \u001b[43m        \u001b[49m\u001b[43me\u001b[49m\u001b[43m,\u001b[49m\u001b[43m \u001b[49m\u001b[43mstatement\u001b[49m\u001b[43m,\u001b[49m\u001b[43m \u001b[49m\u001b[43mparameters\u001b[49m\u001b[43m,\u001b[49m\u001b[43m \u001b[49m\u001b[43mcursor\u001b[49m\u001b[43m,\u001b[49m\u001b[43m \u001b[49m\u001b[43mcontext\u001b[49m\n\u001b[0;32m   1853\u001b[0m \u001b[43m    \u001b[49m\u001b[43m)\u001b[49m\n\u001b[0;32m   1855\u001b[0m \u001b[38;5;28;01mreturn\u001b[39;00m result\n",
      "File \u001b[1;32m~\\anaconda3\\envs\\myenv\\lib\\site-packages\\sqlalchemy\\engine\\base.py:2032\u001b[0m, in \u001b[0;36mConnection._handle_dbapi_exception\u001b[1;34m(self, e, statement, parameters, cursor, context)\u001b[0m\n\u001b[0;32m   2030\u001b[0m     util\u001b[38;5;241m.\u001b[39mraise_(newraise, with_traceback\u001b[38;5;241m=\u001b[39mexc_info[\u001b[38;5;241m2\u001b[39m], from_\u001b[38;5;241m=\u001b[39me)\n\u001b[0;32m   2031\u001b[0m \u001b[38;5;28;01melif\u001b[39;00m should_wrap:\n\u001b[1;32m-> 2032\u001b[0m     \u001b[43mutil\u001b[49m\u001b[38;5;241;43m.\u001b[39;49m\u001b[43mraise_\u001b[49m\u001b[43m(\u001b[49m\n\u001b[0;32m   2033\u001b[0m \u001b[43m        \u001b[49m\u001b[43msqlalchemy_exception\u001b[49m\u001b[43m,\u001b[49m\u001b[43m \u001b[49m\u001b[43mwith_traceback\u001b[49m\u001b[38;5;241;43m=\u001b[39;49m\u001b[43mexc_info\u001b[49m\u001b[43m[\u001b[49m\u001b[38;5;241;43m2\u001b[39;49m\u001b[43m]\u001b[49m\u001b[43m,\u001b[49m\u001b[43m \u001b[49m\u001b[43mfrom_\u001b[49m\u001b[38;5;241;43m=\u001b[39;49m\u001b[43me\u001b[49m\n\u001b[0;32m   2034\u001b[0m \u001b[43m    \u001b[49m\u001b[43m)\u001b[49m\n\u001b[0;32m   2035\u001b[0m \u001b[38;5;28;01melse\u001b[39;00m:\n\u001b[0;32m   2036\u001b[0m     util\u001b[38;5;241m.\u001b[39mraise_(exc_info[\u001b[38;5;241m1\u001b[39m], with_traceback\u001b[38;5;241m=\u001b[39mexc_info[\u001b[38;5;241m2\u001b[39m])\n",
      "File \u001b[1;32m~\\anaconda3\\envs\\myenv\\lib\\site-packages\\sqlalchemy\\util\\compat.py:207\u001b[0m, in \u001b[0;36mraise_\u001b[1;34m(***failed resolving arguments***)\u001b[0m\n\u001b[0;32m    204\u001b[0m     exception\u001b[38;5;241m.\u001b[39m__cause__ \u001b[38;5;241m=\u001b[39m replace_context\n\u001b[0;32m    206\u001b[0m \u001b[38;5;28;01mtry\u001b[39;00m:\n\u001b[1;32m--> 207\u001b[0m     \u001b[38;5;28;01mraise\u001b[39;00m exception\n\u001b[0;32m    208\u001b[0m \u001b[38;5;28;01mfinally\u001b[39;00m:\n\u001b[0;32m    209\u001b[0m     \u001b[38;5;66;03m# credit to\u001b[39;00m\n\u001b[0;32m    210\u001b[0m     \u001b[38;5;66;03m# https://cosmicpercolator.com/2016/01/13/exception-leaks-in-python-2-and-3/\u001b[39;00m\n\u001b[0;32m    211\u001b[0m     \u001b[38;5;66;03m# as the __traceback__ object creates a cycle\u001b[39;00m\n\u001b[0;32m    212\u001b[0m     \u001b[38;5;28;01mdel\u001b[39;00m exception, replace_context, from_, with_traceback\n",
      "File \u001b[1;32m~\\anaconda3\\envs\\myenv\\lib\\site-packages\\sqlalchemy\\engine\\base.py:1808\u001b[0m, in \u001b[0;36mConnection._execute_context\u001b[1;34m(self, dialect, constructor, statement, parameters, execution_options, *args, **kw)\u001b[0m\n\u001b[0;32m   1806\u001b[0m                 \u001b[38;5;28;01mbreak\u001b[39;00m\n\u001b[0;32m   1807\u001b[0m     \u001b[38;5;28;01mif\u001b[39;00m \u001b[38;5;129;01mnot\u001b[39;00m evt_handled:\n\u001b[1;32m-> 1808\u001b[0m         \u001b[38;5;28;43mself\u001b[39;49m\u001b[38;5;241;43m.\u001b[39;49m\u001b[43mdialect\u001b[49m\u001b[38;5;241;43m.\u001b[39;49m\u001b[43mdo_execute\u001b[49m\u001b[43m(\u001b[49m\n\u001b[0;32m   1809\u001b[0m \u001b[43m            \u001b[49m\u001b[43mcursor\u001b[49m\u001b[43m,\u001b[49m\u001b[43m \u001b[49m\u001b[43mstatement\u001b[49m\u001b[43m,\u001b[49m\u001b[43m \u001b[49m\u001b[43mparameters\u001b[49m\u001b[43m,\u001b[49m\u001b[43m \u001b[49m\u001b[43mcontext\u001b[49m\n\u001b[0;32m   1810\u001b[0m \u001b[43m        \u001b[49m\u001b[43m)\u001b[49m\n\u001b[0;32m   1812\u001b[0m \u001b[38;5;28;01mif\u001b[39;00m \u001b[38;5;28mself\u001b[39m\u001b[38;5;241m.\u001b[39m_has_events \u001b[38;5;129;01mor\u001b[39;00m \u001b[38;5;28mself\u001b[39m\u001b[38;5;241m.\u001b[39mengine\u001b[38;5;241m.\u001b[39m_has_events:\n\u001b[0;32m   1813\u001b[0m     \u001b[38;5;28mself\u001b[39m\u001b[38;5;241m.\u001b[39mdispatch\u001b[38;5;241m.\u001b[39mafter_cursor_execute(\n\u001b[0;32m   1814\u001b[0m         \u001b[38;5;28mself\u001b[39m,\n\u001b[0;32m   1815\u001b[0m         cursor,\n\u001b[1;32m   (...)\u001b[0m\n\u001b[0;32m   1819\u001b[0m         context\u001b[38;5;241m.\u001b[39mexecutemany,\n\u001b[0;32m   1820\u001b[0m     )\n",
      "File \u001b[1;32m~\\anaconda3\\envs\\myenv\\lib\\site-packages\\sqlalchemy\\engine\\default.py:732\u001b[0m, in \u001b[0;36mDefaultDialect.do_execute\u001b[1;34m(self, cursor, statement, parameters, context)\u001b[0m\n\u001b[0;32m    731\u001b[0m \u001b[38;5;28;01mdef\u001b[39;00m \u001b[38;5;21mdo_execute\u001b[39m(\u001b[38;5;28mself\u001b[39m, cursor, statement, parameters, context\u001b[38;5;241m=\u001b[39m\u001b[38;5;28;01mNone\u001b[39;00m):\n\u001b[1;32m--> 732\u001b[0m     \u001b[43mcursor\u001b[49m\u001b[38;5;241;43m.\u001b[39;49m\u001b[43mexecute\u001b[49m\u001b[43m(\u001b[49m\u001b[43mstatement\u001b[49m\u001b[43m,\u001b[49m\u001b[43m \u001b[49m\u001b[43mparameters\u001b[49m\u001b[43m)\u001b[49m\n",
      "\u001b[1;31mOperationalError\u001b[0m: (psycopg2.OperationalError) server closed the connection unexpectedly\n\tThis probably means the server terminated abnormally\n\tbefore or while processing the request.\n\n[SQL: \n    Update neighbourhoods\n    set population = 202\n    where \"Unnamed: 0\" =71]\n(Background on this error at: https://sqlalche.me/e/14/e3q8)"
     ]
    }
   ],
   "source": [
    "i=0\n",
    "while i<322:\n",
    "    pop=toInt(population.loc[i][\"population\"])\n",
    "    conn.execute(\"\"\"\n",
    "    Update neighbourhoods\n",
    "    set population = {}\n",
    "    where \"Unnamed: 0\" ={}\"\"\".format(pop,i))\n",
    "    dwellings=toInt(dwelling.loc[i][\"number_of_dwellings\"])\n",
    "    conn.execute(\"\"\"\n",
    "    Update neighbourhoods\n",
    "    set number_of_dwellings = {}\n",
    "    where \"Unnamed: 0\" ={}\"\"\".format(dwellings,i))\n",
    "    i+=1\n",
    "conn.execute(\"\"\"\n",
    "ALter table neighbourhoods\n",
    "drop column \"Unnamed: 0\"\n",
    "\"\"\")\n",
    "query(conn,\"\"\"select * from neighbourhoods\"\"\")"
   ]
  },
  {
   "cell_type": "code",
   "execution_count": null,
   "id": "82bac551",
   "metadata": {},
   "outputs": [],
   "source": [
    "SA2_data = gpd.read_file(\"SA2_2016_AUST/SA2_2016_AUST.shp\")\n",
    "SA2_data = SA2_data.replace(to_replace='None', value=np.nan).dropna()\n",
    "SA2_data"
   ]
  },
  {
   "cell_type": "code",
   "execution_count": null,
   "id": "f783fdba",
   "metadata": {},
   "outputs": [],
   "source": [
    "SA2_og = SA2_data.copy()  # creating a copy of the original for later\n",
    "SA2_data['geom'] = SA2_data['geometry'].apply(lambda x: create_wkt_element(geom=x,srid=4283))  # applying the function\n",
    "SA2_data = SA2_data.drop(columns=\"geometry\")  # deleting the old copy\n",
    "SA2_data"
   ]
  },
  {
   "cell_type": "code",
   "execution_count": null,
   "id": "3530f60c",
   "metadata": {},
   "outputs": [],
   "source": [
    "conn.execute(\"\"\"\n",
    "DROP TABLE IF EXISTS sa2;\n",
    "CREATE TABLE sa2 (\n",
    "    \"SA2_MAIN16\" INTEGER primary key, \n",
    "    \"SA2_5DIG16\" INTEGER, \n",
    "    \"SA2_NAME16\" VARCHAR(50), \n",
    "    \"SA3_CODE16\" NUMERIC, \n",
    "    \"SA3_NAME16\" VARCHAR(50),\n",
    "    \"SA4_CODE16\" NUMERIC,\n",
    "    \"SA4_NAME16\" VARCHAR(50),\n",
    "    \"GCC_CODE16\" VARCHAR(10),\n",
    "    \"GCC_NAME16\" VARCHAR(50),\n",
    "    \"STE_CODE16\" NUMERIC,\n",
    "    \"STE_NAME16\" VARCHAR(50),\n",
    "    \"AREASQKM16\" NUMERIC,\n",
    "    geom GEOMETRY(MULTIPOLYGON,4283)\n",
    ");\"\"\")"
   ]
  },
  {
   "cell_type": "code",
   "execution_count": null,
   "id": "0a1ffb91",
   "metadata": {},
   "outputs": [],
   "source": [
    "SA2_data.to_sql(\"sa2\", conn, if_exists='append', index=False, dtype={'geom': Geometry('MULTIPOLYGON', 4283)})\n",
    "query(conn, \"select * from sa2\")"
   ]
  },
  {
   "cell_type": "code",
   "execution_count": null,
   "id": "3bf9b83d",
   "metadata": {},
   "outputs": [],
   "source": [
    "schoolsdata = pd.concat(\n",
    "map(gpd.read_file, ['school_catchments/catchments_primary.shp', 'school_catchments/catchments_secondary.shp', 'school_catchments/catchments_future.shp']), ignore_index=True)\n",
    "schoolsdata"
   ]
  },
  {
   "cell_type": "code",
   "execution_count": null,
   "id": "4effa7da",
   "metadata": {},
   "outputs": [],
   "source": [
    "schoolsdata_og = schoolsdata.copy()  \n",
    "schoolsdata['geom'] = schoolsdata['geometry'].apply(lambda x: create_wkt_element(geom=x,srid=4283))  \n",
    "schoolsdata = schoolsdata.drop(columns=\"geometry\") \n",
    "schoolsdata"
   ]
  },
  {
   "cell_type": "code",
   "execution_count": null,
   "id": "c27ff95e",
   "metadata": {},
   "outputs": [],
   "source": [
    "conn.execute(\"\"\"\n",
    "DROP TABLE IF EXISTS schools;\n",
    "CREATE TABLE schools (\n",
    "    \"USE_ID\" NUMERIC, \n",
    "    \"CATCH_TYPE\" VARCHAR(20), \n",
    "    \"USE_DESC\" VARCHAR(50), \n",
    "    \"ADD_DATE\" NUMERIC, \n",
    "    \"KINDERGART\" VARCHAR(10),\n",
    "    \"YEAR1\" VARCHAR(10),\n",
    "    \"YEAR2\" VARCHAR(10),\n",
    "    \"YEAR3\" VARCHAR(10),\n",
    "    \"YEAR4\" VARCHAR(10),\n",
    "    \"YEAR5\" VARCHAR(10),\n",
    "    \"YEAR6\" VARCHAR(10),\n",
    "    \"YEAR7\" VARCHAR(10),\n",
    "    \"YEAR8\" VARCHAR(10),\n",
    "    \"YEAR9\" VARCHAR(10),\n",
    "    \"YEAR10\" VARCHAR(10),\n",
    "    \"YEAR11\" VARCHAR(10),\n",
    "    \"YEAR12\" VARCHAR(10),\n",
    "    \"PRIORITY\" VARCHAR(10),\n",
    "    geom GEOMETRY(MULTIPOLYGON,4283)\n",
    ");\"\"\"\n",
    ")"
   ]
  },
  {
   "cell_type": "code",
   "execution_count": null,
   "id": "cb3614fa",
   "metadata": {},
   "outputs": [],
   "source": [
    "schoolsdata.to_sql(\"schools\", conn, if_exists='append', index=False, dtype={'geom': Geometry('MULTIPOLYGON', 4283)})\n",
    "query(conn, \"select * from schools\")"
   ]
  },
  {
   "cell_type": "code",
   "execution_count": null,
   "id": "6ecae6d6",
   "metadata": {},
   "outputs": [],
   "source": [
    "breakdata = gpd.read_file(\"break_and_enter/BreakEnterDwelling_JanToDec2021.shp\")\n",
    "breakdata = breakdata.replace(to_replace='None', value=np.nan).dropna()\n",
    "breakdata"
   ]
  },
  {
   "cell_type": "code",
   "execution_count": null,
   "id": "9be39f10",
   "metadata": {},
   "outputs": [],
   "source": [
    "srid=4283\n",
    "breakdata_og = breakdata.copy()  \n",
    "breakdata['geom'] = breakdata['geometry'].apply(lambda x: create_wkt_element(geom=x,srid=srid))  \n",
    "breakdata = breakdata.drop(columns=\"geometry\") \n",
    "breakdata"
   ]
  },
  {
   "cell_type": "code",
   "execution_count": null,
   "id": "91ffaa8c",
   "metadata": {},
   "outputs": [],
   "source": [
    "conn.execute(\"\"\"\n",
    "DROP table break_enter cascade;\n",
    "CREATE TABLE break_enter (\n",
    "    \"OBJECTID\" NUMERIC primary key, \n",
    "    \"Contour\" NUMERIC, \n",
    "    \"Density\" VARCHAR(20), \n",
    "    \"ORIG_FID\" NUMERIC, \n",
    "    \"Shape_Leng\" NUMERIC,\n",
    "    \"Shape_Area\" NUMERIC,\n",
    "    geom GEOMETRY(MULTIPOLYGON,4283)\n",
    ");\"\"\"\n",
    ")"
   ]
  },
  {
   "cell_type": "code",
   "execution_count": null,
   "id": "4998d703",
   "metadata": {},
   "outputs": [],
   "source": [
    "breakdata.to_sql(\"break_enter\", conn, if_exists='append', index=False, dtype={'geom': Geometry('MULTIPOLYGON', srid)})\n",
    "query(conn, \"select * from break_enter\")"
   ]
  },
  {
   "cell_type": "code",
   "execution_count": null,
   "id": "888fae7d",
   "metadata": {},
   "outputs": [],
   "source": [
    "bicycle_data = gpd.read_file('Bicycle_count_sites.geojson')\n",
    "bicycle_data"
   ]
  },
  {
   "cell_type": "code",
   "execution_count": null,
   "id": "a9dceda5",
   "metadata": {},
   "outputs": [],
   "source": [
    "bicycle_data['geom'] = bicycle_data['geometry'].apply(lambda x: WKTElement(x.wkt, 4283))\n",
    "bicycle_data = bicycle_data.drop(columns=\"geometry\")\n",
    "bicycle_data"
   ]
  },
  {
   "cell_type": "code",
   "execution_count": null,
   "id": "09c20631",
   "metadata": {},
   "outputs": [],
   "source": [
    "conn.execute(\"\"\"\n",
    "DROP TABLE IF EXISTS bicycles cascade;\n",
    "CREATE TABLE bicycles (\n",
    "    \"OBJECTID\" NUMERIC primary key, \n",
    "    \"SiteID\" NUMERIC, \n",
    "    \"Intersection\" VARCHAR(150),\n",
    "    geom GEOMETRY(POINT,4283)\n",
    ");\"\"\"\n",
    ")\n",
    "bicycle_data.to_sql('bicycles', conn, if_exists='append', index=False, dtype={'geom': Geometry('POINT', 4283)})\n",
    "query(conn, \"select * from bicycles\")\n"
   ]
  },
  {
   "cell_type": "code",
   "execution_count": null,
   "id": "32ae7784",
   "metadata": {},
   "outputs": [],
   "source": [
    "gpd.io.file.fiona.drvsupport.supported_drivers['KML'] = 'rw'\n",
    "playground_data = gpd.read_file('Playgrounds.kml', driver='KML')\n",
    "playground_data"
   ]
  },
  {
   "cell_type": "code",
   "execution_count": null,
   "id": "62020aa7",
   "metadata": {},
   "outputs": [],
   "source": [
    "playground_data['geom'] = playground_data['geometry'].apply(lambda x: WKTElement(x.wkt, 4283))\n",
    "playground_data = playground_data.drop(columns=\"geometry\")\n",
    "playground_data"
   ]
  },
  {
   "cell_type": "code",
   "execution_count": null,
   "id": "68bda4f9",
   "metadata": {},
   "outputs": [],
   "source": [
    "conn.execute(\"\"\"\n",
    "DROP TABLE IF EXISTS playgrounds;\n",
    "CREATE TABLE playgrounds (\n",
    "    \"Name\" VARCHAR(80), \n",
    "    \"Description\" VARCHAR(50), \n",
    "    geom GEOMETRY(POINT,4283)\n",
    ");\"\"\"\n",
    ")\n",
    "playground_data.to_sql('playgrounds', conn, if_exists='append', index=False, dtype={'geom': Geometry('POINT', 4283)})\n",
    "query(conn, \"select * from playgrounds\")"
   ]
  },
  {
   "cell_type": "code",
   "execution_count": null,
   "id": "fa3ae5dd",
   "metadata": {},
   "outputs": [],
   "source": [
    "conn.execute(\"\"\"\n",
    "DROP INDEX IF EXISTS sa2_geom_idx;\n",
    "CREATE INDEX sa2_geom_idx ON sa2 USING GIST (geom);\n",
    "\"\"\")\n",
    "conn.execute(\"\"\"\n",
    "DROP INDEX IF EXISTS break_geom_idx;\n",
    "CREATE INDEX break_geom_idx ON break_enter USING GIST (geom);\n",
    "\"\"\")\n",
    "conn.execute(\"\"\"\n",
    "DROP INDEX IF EXISTS school_geom_idx;\n",
    "CREATE INDEX school_geom_idx ON schools USING GIST (geom);\n",
    "\"\"\")\n",
    "conn.execute(\"\"\"\n",
    "DROP INDEX IF EXISTS bicycle_geom_idx;\n",
    "CREATE INDEX bicycle_geom_idx ON bicycles USING GIST (geom);\n",
    "\"\"\")\n",
    "conn.execute(\"\"\"\n",
    "DROP INDEX IF EXISTS playground_geom_idx;\n",
    "CREATE INDEX playground_geom_idx ON playgrounds USING GIST (geom);\n",
    "\"\"\")"
   ]
  },
  {
   "cell_type": "code",
   "execution_count": null,
   "id": "4069059d",
   "metadata": {},
   "outputs": [],
   "source": [
    "conn.execute(\"\"\"\n",
    "drop view if exists school_view cascade\"\"\")\n",
    "conn.execute( \"\"\"\n",
    "CREATE VIEW school_view AS\n",
    "SELECT A.\"SA2_MAIN16\" as area_id, count(*), (C.\"0-4\" + C.\"5-9\" + C.\"10-14\" + C.\"15-19\") AS total, COALESCE(1000*count(*)/NULLIF((C.\"0-4\" + C.\"5-9\" + C.\"10-14\" + C.\"15-19\"), 0),0) AS school\n",
    "FROM sa2 A JOIN schools B ON ST_Intersects(A.geom, B.geom)\n",
    "JOIN neighbourhoods C ON A.\"SA2_MAIN16\"=C.area_id\n",
    "GROUP BY A.\"SA2_MAIN16\", total\n",
    "\"\"\")"
   ]
  },
  {
   "cell_type": "code",
   "execution_count": null,
   "id": "24ed52e2",
   "metadata": {},
   "outputs": [],
   "source": [
    "query(conn,\"\"\"\n",
    "select * from school_view\n",
    "\"\"\")"
   ]
  },
  {
   "cell_type": "code",
   "execution_count": null,
   "id": "c1b6a1e1",
   "metadata": {},
   "outputs": [],
   "source": [
    "conn.execute(\"\"\"\n",
    "drop view if exists bicycle_view cascade\"\"\")\n",
    "conn.execute( \"\"\"\n",
    "CREATE VIEW bicycle_view AS\n",
    "SELECT C.area_id, count(*) as bicycle_sites\n",
    "FROM sa2 A JOIN bicycles B ON ST_Contains(A.geom, B.geom)\n",
    "right JOIN neighbourhoods C ON A.\"SA2_MAIN16\"=C.area_id\n",
    "GROUP BY C.area_id\n",
    "\"\"\")"
   ]
  },
  {
   "cell_type": "code",
   "execution_count": null,
   "id": "22cccfb3",
   "metadata": {},
   "outputs": [],
   "source": [
    "query(conn,\"\"\"\n",
    "select * from bicycle_view\n",
    "\"\"\")"
   ]
  },
  {
   "cell_type": "code",
   "execution_count": null,
   "id": "5e17c344",
   "metadata": {},
   "outputs": [],
   "source": [
    "conn.execute(\"\"\"\n",
    "drop view if exists playground_view cascade\"\"\")\n",
    "conn.execute( \"\"\"\n",
    "CREATE VIEW playground_view AS\n",
    "SELECT C.area_id, count(*) as playground_sites\n",
    "FROM sa2 A JOIN playgrounds B ON ST_Contains(A.geom, B.geom)\n",
    "right JOIN neighbourhoods C ON A.\"SA2_MAIN16\"=C.area_id\n",
    "GROUP BY C.area_id\n",
    "\"\"\")"
   ]
  },
  {
   "cell_type": "code",
   "execution_count": null,
   "id": "da3d6b72",
   "metadata": {},
   "outputs": [],
   "source": [
    "query(conn,\"\"\"\n",
    "select * from playground_view\n",
    "\"\"\")"
   ]
  },
  {
   "cell_type": "code",
   "execution_count": null,
   "id": "a0a5526b",
   "metadata": {},
   "outputs": [],
   "source": [
    "conn.execute(\"\"\"\n",
    "drop view if exists acc_view cascade\"\"\")\n",
    "conn.execute(\"\"\"\n",
    "create view acc_view as\n",
    "SELECT A.area_id, A.accommodation_and_food_services, B.population, COALESCE(1000*A.accommodation_and_food_services/NULLIF(B.population, 0),0) AS accom\n",
    "FROM businessstats A JOIN neighbourhoods B using(area_id)\n",
    "\"\"\")"
   ]
  },
  {
   "cell_type": "code",
   "execution_count": null,
   "id": "5a2e0bff",
   "metadata": {},
   "outputs": [],
   "source": [
    "query(conn,\"\"\"\n",
    "select * from acc_view\"\"\")"
   ]
  },
  {
   "cell_type": "code",
   "execution_count": null,
   "id": "23985b26",
   "metadata": {},
   "outputs": [],
   "source": [
    "conn.execute(\"\"\"\n",
    "drop view if exists retail_view cascade\"\"\")\n",
    "conn.execute( \"\"\"\n",
    "create view retail_view as\n",
    "SELECT A.area_id, A.retail_trade, B.population,COALESCE(1000*A.retail_trade/NULLIF(B.population, 0),0) AS retail\n",
    "FROM businessstats A JOIN neighbourhoods B on A.area_id=B.area_id\n",
    "\n",
    "\"\"\")"
   ]
  },
  {
   "cell_type": "code",
   "execution_count": null,
   "id": "f90c851b",
   "metadata": {},
   "outputs": [],
   "source": [
    "query(conn, \"\"\"\n",
    "select * from retail_view\"\"\")"
   ]
  },
  {
   "cell_type": "code",
   "execution_count": null,
   "id": "48d5ed8c",
   "metadata": {},
   "outputs": [],
   "source": [
    "conn.execute(\"\"\"\n",
    "drop view if exists health_view cascade\"\"\")\n",
    "conn.execute( \"\"\"\n",
    "create view health_view as\n",
    "SELECT A.area_id, A.health_care_and_social_assistance, B.population, COALESCE(1000*A.health_care_and_social_assistance/NULLIF(B.population, 0),0) AS health\n",
    "FROM businessstats A JOIN neighbourhoods B ON A.area_id=B.area_id\n",
    "\n",
    "\"\"\")"
   ]
  },
  {
   "cell_type": "code",
   "execution_count": null,
   "id": "93fa9d73",
   "metadata": {},
   "outputs": [],
   "source": [
    "query(conn,\"\"\"\n",
    "select * from health_view\"\"\")"
   ]
  },
  {
   "cell_type": "code",
   "execution_count": null,
   "id": "03148ccb",
   "metadata": {},
   "outputs": [],
   "source": [
    "conn.execute(\"\"\"\n",
    "drop view if exists crime_area cascade\"\"\")\n",
    "conn.execute(\"\"\"\n",
    "create view crime_area as\n",
    "select area_id, sum(area) as crime_area\n",
    "from(\n",
    "select A.\"SA2_MAIN16\" as area_id,B.\"Shape_Area\" as area\n",
    "from sa2 A JOIN neighbourhoods C ON A.\"SA2_MAIN16\"=C.area_id\n",
    "JOIN break_enter B ON ST_Intersects(A.geom, B.geom)\n",
    "order by A.\"SA2_MAIN16\") as D\n",
    "group by area_id\n",
    "\"\"\")"
   ]
  },
  {
   "cell_type": "code",
   "execution_count": null,
   "id": "2e57486c",
   "metadata": {},
   "outputs": [],
   "source": [
    "query(conn,\"\"\"\n",
    "select * from crime_area\n",
    " \"\"\")"
   ]
  },
  {
   "cell_type": "code",
   "execution_count": null,
   "id": "795b55e7",
   "metadata": {},
   "outputs": [],
   "source": [
    "conn.execute(\"\"\"\n",
    "drop view if exists total_area cascade\"\"\")\n",
    "conn.execute(\"\"\"\n",
    "create view total_area as\n",
    "select area_id,st_area(geom) as total_area\n",
    "from sa2 join neighbourhoods on sa2.\"SA2_MAIN16\"=neighbourhoods.area_id\n",
    "order by area_id\n",
    "\"\"\")\n",
    "query(conn,\"\"\"\n",
    "select * from total_area\"\"\")"
   ]
  },
  {
   "cell_type": "code",
   "execution_count": null,
   "id": "fbbb163d",
   "metadata": {},
   "outputs": [],
   "source": [
    "conn.execute(\"\"\"\n",
    "drop view if exists crime_view cascade\"\"\")\n",
    "conn.execute(\"\"\"\n",
    "create view crime_view as\n",
    "select area_id, A.crime_area ,B.total_area, COALESCE((crime_area/total_area),0) as crime\n",
    "from crime_area A right join total_area B using(area_id)\"\"\")\n",
    "query(conn,\"\"\"\n",
    "select * from crime_view\"\"\")"
   ]
  },
  {
   "cell_type": "code",
   "execution_count": null,
   "id": "88de61ff",
   "metadata": {},
   "outputs": [],
   "source": [
    "conn.execute(\"\"\"\n",
    "drop view if exists all_stats\"\"\")\n",
    "conn.execute(\"\"\"\n",
    "create view all_stats as\n",
    "select area_id,school,health,accom,crime,retail\n",
    "from school_view join health_view using(area_id)\n",
    "join acc_view using (area_id)\n",
    "join crime_view using (area_id)\n",
    "join retail_view using (area_id)\n",
    "join playground_view using (area_id)\n",
    "join bicycles_view using (area_id)\n",
    "\n",
    "\"\"\")"
   ]
  },
  {
   "cell_type": "code",
   "execution_count": null,
   "id": "24967e34",
   "metadata": {},
   "outputs": [],
   "source": [
    "result=query(conn,\"\"\"\n",
    "select * from all_stats\"\"\")\n",
    "result3=query(conn,\"\"\"\n",
    "select * from all_stats\n",
    "where area_id in (\n",
    "select \"SA2_MAIN16\"\n",
    "from sa2\n",
    "where \"SA3_NAME16\"='Sydney Inner City')\"\"\")\n",
    "result['school_z']=(result['school']-result['school'].mean())/np.std(result['school'])\n",
    "result['health_z']=(result['health']-result['health'].mean())/np.std(result['health'])\n",
    "result['accom_z']=(result['accom']-result['accom'].mean())/np.std(result['accom'])\n",
    "result['crime_z']=(result['crime']-result['crime'].mean())/np.std(result['crime'])\n",
    "result['retail_z']=(result['retail']-result['retail'].mean())/np.std(result['retail'])\n",
    "result['total_z']=result['school_z']+result['health_z']+result['accom_z']+result['retail_z']-result['crime_z']\n",
    "result['score']=(np.exp(result['total_z']))/(np.exp(result['total_z'])+1)"
   ]
  },
  {
   "cell_type": "code",
   "execution_count": null,
   "id": "875348d5",
   "metadata": {},
   "outputs": [],
   "source": [
    "result"
   ]
  },
  {
   "cell_type": "code",
   "execution_count": null,
   "id": "c455627a",
   "metadata": {},
   "outputs": [],
   "source": [
    "result3['school_z']=(result3['school']-result3['school'].mean())/np.std(result3['school'])\n",
    "result3['health_z']=(result3['health']-result3['health'].mean())/np.std(result3['health'])\n",
    "result3['accom_z']=(result3['accom']-result3['accom'].mean())/np.std(result3['accom'])\n",
    "result3['crime_z']=(result3['crime']-result3['crime'].mean())/np.std(result3['crime'])\n",
    "result3['retail_z']=(result3['retail']-result3['retail'].mean())/np.std(result3['retail'])\n",
    "result3['bicycle_z']=(result3['bicycle']-result3['bicycle'].mean())/np.std(result3['bicycle'])\n",
    "result3['playground_z']=(result3['playground']-result3['playground'].mean())/np.std(result3['playground'])\n",
    "result3['total_z']=result3['school_z']+result3['health_z']+result3['accom_z']+result3['retail_z']-result3['crime_z']+result3['bicycle_z']+result3['playground_z']\n",
    "result3['score']=(np.exp(result3['total_z']))/(np.exp(result3['total_z'])+1)\n",
    "result3"
   ]
  },
  {
   "cell_type": "code",
   "execution_count": null,
   "id": "aafb226e",
   "metadata": {},
   "outputs": [],
   "source": [
    "r = np.corrcoef(result['score'],Neighbourhoodsdata['avg_monthly_rent'] )\n",
    "r[1,0]"
   ]
  },
  {
   "cell_type": "code",
   "execution_count": null,
   "id": "54e52fc8",
   "metadata": {},
   "outputs": [],
   "source": [
    "r = np.corrcoef(result['score'],Neighbourhoodsdata['median_annual_household_income'] )\n",
    "r[1,0]"
   ]
  },
  {
   "cell_type": "code",
   "execution_count": null,
   "id": "aa3ac64a",
   "metadata": {},
   "outputs": [],
   "source": [
    "conn.close()\n",
    "db.dispose()"
   ]
  }
 ],
 "metadata": {
  "kernelspec": {
   "display_name": "Python 3 (ipykernel)",
   "language": "python",
   "name": "python3"
  },
  "language_info": {
   "codemirror_mode": {
    "name": "ipython",
    "version": 3
   },
   "file_extension": ".py",
   "mimetype": "text/x-python",
   "name": "python",
   "nbconvert_exporter": "python",
   "pygments_lexer": "ipython3",
   "version": "3.9.12"
  }
 },
 "nbformat": 4,
 "nbformat_minor": 5
}
